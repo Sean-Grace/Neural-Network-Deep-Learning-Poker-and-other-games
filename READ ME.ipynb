{
 "cells": [
  {
   "cell_type": "markdown",
   "id": "dc69f733",
   "metadata": {},
   "source": [
    "The goal of this project is to find optimum stradegys for imperfect information chance based games. There are two examples so far Rock, Paper, Scissors and a modified Poker.\n",
    "The RPS is self explanatory with a reward of 1 given for a win and -1 for a loss too each player.\n",
    "The Basic Poker plays out as so: There is an initial round of betting of one to enter the game, and one round of actual betting. The players are given choice to bet or pass which is the b and p in the results. A simplification i made to the game was I carried out the process only caring about hank ranking i.e high card, two pair, 3 of a kind and so on totaling 10 different types of hands.\n",
    "I will later update with all available hands.\n"
   ]
  }
 ],
 "metadata": {
  "kernelspec": {
   "display_name": "Python 3",
   "language": "python",
   "name": "python3"
  },
  "language_info": {
   "codemirror_mode": {
    "name": "ipython",
    "version": 3
   },
   "file_extension": ".py",
   "mimetype": "text/x-python",
   "name": "python",
   "nbconvert_exporter": "python",
   "pygments_lexer": "ipython3",
   "version": "3.8.8"
  }
 },
 "nbformat": 4,
 "nbformat_minor": 5
}
